{
 "cells": [
  {
   "cell_type": "markdown",
   "metadata": {},
   "source": [
    "### Find user who has max affinity towards given user.\n",
    "\n",
    "##### Assumption:\n",
    " - Data is Large, hence cannot be processed in memory.\n",
    " - The total number of users are of the order 10^7, which can still be stored in a dict, in memory \n",
    " - The data is available as a CSV file."
   ]
  },
  {
   "cell_type": "code",
   "execution_count": 6,
   "metadata": {
    "collapsed": true
   },
   "outputs": [],
   "source": [
    "import csv\n",
    "\n",
    "class MaxAffinity:    \n",
    "    def __init__(self):\n",
    "        self.max_scores = { } # We will store user as key, a tuple of (other_user, affinity_score) as value\n",
    "        # refer to solutions csv\n",
    "        # Define code MaxAffinity, inside the class you have max_scores (dictionarty storing the other_user & afinity score)\n",
    "    def addAffinityScore(self, user_a, user_b, affinity_score):\n",
    "        # These functions, when new_affinity score becomes available, then how do you add? (goes through loop)\n",
    "        # in order to add that you need to add afifnity score function - first check whether a and b exists or not, if affinity score is greater than\n",
    "        # last .99 doesn't get included\n",
    "        if user_a in self.max_scores :\n",
    "            if affinity_score > self.max_scores[user_a][1]:\n",
    "                self.max_scores[user_a] = (user_b, affinity_score)\n",
    "        else:\n",
    "            self.max_scores[user_a] = (user_b, affinity_score) \n",
    "    \n",
    "    # API to access the max affinity scores\n",
    "    # read the data out of the class, giving whatever is in the dictionary as an output user A, user B, and \n",
    "    # maximum affinity score of the user, how the output looks like\n",
    "    def getMaxAffinityScores(self):\n",
    "        output = []\n",
    "        for user in sorted(self.max_scores):\n",
    "            output.append( (user, self.max_scores[user][0], self.max_scores[user][1])  )\n",
    "        return output\n",
    "    \n",
    "    def printMaxAffinityScores(self):\n",
    "        print 'userA\\tuserB\\tAffinityScore'\n",
    "        for user in sorted(self.max_scores):\n",
    "            print user, '\\t', self.max_scores[user][0], '\\t', self.max_scores[user][1]\n",
    "   "
   ]
  },
  {
   "cell_type": "code",
   "execution_count": 2,
   "metadata": {
    "collapsed": true
   },
   "outputs": [],
   "source": [
    "# \n",
    "maxAffinityCalculator = MaxAffinity()\n",
    "# read from file, loop in\n",
    "def calculateMaxAffinityFromFile(csv_file_path):\n",
    "    # looping through all the records, ignoring the header\n",
    "    with open(csv_file_path, \"rb\") as f_obj:\n",
    "        reader = csv.reader(f_obj)\n",
    "        header = True\n",
    "        for record in reader:\n",
    "            # first time it runs, it will ignore the header, will not be treating header as user affinity score\n",
    "            if header == False:\n",
    "                maxAffinityCalculator.addAffinityScore(record[0], record[1], record[2])\n",
    "            else: ## Ignore the header\n",
    "                header = False\n"
   ]
  },
  {
   "cell_type": "code",
   "execution_count": 3,
   "metadata": {},
   "outputs": [
    {
     "name": "stdout",
     "output_type": "stream",
     "text": [
      "userA\tuserB\tAffinityScore\n",
      "1 \t3 \t0.78\n",
      "2 \t3 \t0.99\n",
      "3 \t2 \t0.99\n"
     ]
    }
   ],
   "source": [
    "# this is the main function where you call the other functions, if it is a package, it won't be called \n",
    "# only execute if run through source directly run by python interpreter\n",
    "if __name__ == \"__main__\":\n",
    "    csv_path = \"/Users/eric/Documents/solutions/user_affinity_data.csv\"\n",
    "\n",
    "    calculateMaxAffinityFromFile(csv_path)\n",
    "    maxAffinityCalculator.printMaxAffinityScores()"
   ]
  },
  {
   "cell_type": "code",
   "execution_count": 4,
   "metadata": {},
   "outputs": [
    {
     "data": {
      "text/plain": [
       "[('1', '3', '0.78'), ('2', '3', '0.99'), ('3', '2', '0.99')]"
      ]
     },
     "execution_count": 4,
     "metadata": {},
     "output_type": "execute_result"
    }
   ],
   "source": [
    "# Retrieve the output\n",
    "maxAffinityCalculator.getMaxAffinityScores()"
   ]
  },
  {
   "cell_type": "code",
   "execution_count": null,
   "metadata": {
    "collapsed": true
   },
   "outputs": [],
   "source": []
  }
 ],
 "metadata": {
  "kernelspec": {
   "display_name": "Python 2",
   "language": "python",
   "name": "python2"
  },
  "language_info": {
   "codemirror_mode": {
    "name": "ipython",
    "version": 2
   },
   "file_extension": ".py",
   "mimetype": "text/x-python",
   "name": "python",
   "nbconvert_exporter": "python",
   "pygments_lexer": "ipython2",
   "version": "2.7.14"
  }
 },
 "nbformat": 4,
 "nbformat_minor": 2
}
